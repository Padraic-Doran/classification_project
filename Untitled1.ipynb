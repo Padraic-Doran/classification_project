{
 "cells": [
  {
   "cell_type": "code",
   "execution_count": 1,
   "metadata": {},
   "outputs": [],
   "source": [
    "import env\n",
    "import pandas as pd\n",
    "from sklearn.preprocessing import StandardScaler, PowerTransformer, MinMaxScaler, RobustScaler, QuantileTransformer\n",
    "from sklearn.model_selection import train_test_split\n",
    "import numpy as np\n",
    "import pandas_profiling\n",
    "import seaborn as sns\n",
    "import matplotlib.pyplot as plt\n",
    "import csv\n",
    "from os import path\n",
    "import warnings\n",
    "warnings.filterwarnings(\"ignore\")\n",
    "from sklearn.model_selection import train_test_split\n",
    "from sklearn.impute import SimpleImputer\n",
    "import sklearn.preprocessing\n",
    "from sklearn.preprocessing import LabelEncoder\n",
    "from sklearn.preprocessing import OneHotEncoder\n",
    "from sklearn.preprocessing import MinMaxScaler\n",
    "import math\n",
    "import split_scale\n",
    "from sklearn.tree import DecisionTreeClassifier, export_graphviz\n",
    "from sklearn.metrics import confusion_matrix, classification_report\n",
    "from graphviz import Source\n",
    "from scipy import stats"
   ]
  },
  {
   "cell_type": "code",
   "execution_count": 2,
   "metadata": {},
   "outputs": [],
   "source": [
    "def get_db_url(db):\n",
    "    return f'mysql+pymysql://{env.user}:{env.password}@{env.host}/{db}'"
   ]
  },
  {
   "cell_type": "code",
   "execution_count": 3,
   "metadata": {},
   "outputs": [],
   "source": [
    "def get_telco_data_from_mysql():\n",
    "   \n",
    "    # Use a double \"%\" in order to escape %'s default string formatting behavior.\n",
    "    query = ''' Select * from customers\n",
    "JOIN contract_types USING (contract_type_id)\n",
    "Join internet_service_types USING (internet_service_type_id)\n",
    "JOIN payment_types USING (payment_type_id);\n",
    "\n",
    "    '''\n",
    "\n",
    "    url = get_db_url(\"telco_churn\") \n",
    "    df = pd.read_sql(query, url)\n",
    "    return df"
   ]
  },
  {
   "cell_type": "code",
   "execution_count": 5,
   "metadata": {},
   "outputs": [],
   "source": [
    "df = get_telco_data_from_mysql()\n",
    "new_df = df[['customer_id', 'churn', 'contract_type_id', 'contract_type', 'tenure', 'monthly_charges', 'total_charges', 'gender', 'partner', 'dependents', 'senior_citizen', 'phone_service', 'multiple_lines', 'internet_service_type', 'internet_service_type_id' ,'tech_support', 'streaming_tv', 'streaming_movies', 'online_security', 'online_backup', 'device_protection', 'payment_type', 'payment_type_id', 'paperless_billing']]"
   ]
  },
  {
   "cell_type": "code",
   "execution_count": 6,
   "metadata": {},
   "outputs": [],
   "source": [
    "new_df.replace(r'^\\s*$', np.nan, regex=True, inplace=True)\n",
    "df = new_df.dropna()\n",
    "df.total_charges = df.total_charges.astype(float, inplace = True)\n",
    "df.tech_support.replace('No internet service', 'No', inplace = True)\n",
    "df.replace('No internet service', 'No', inplace = True)\n",
    "df.replace('No phone service', 'No', inplace=True)"
   ]
  },
  {
   "cell_type": "code",
   "execution_count": null,
   "metadata": {},
   "outputs": [],
   "source": []
  }
 ],
 "metadata": {
  "kernelspec": {
   "display_name": "Python 3",
   "language": "python",
   "name": "python3"
  },
  "language_info": {
   "codemirror_mode": {
    "name": "ipython",
    "version": 3
   },
   "file_extension": ".py",
   "mimetype": "text/x-python",
   "name": "python",
   "nbconvert_exporter": "python",
   "pygments_lexer": "ipython3",
   "version": "3.7.3"
  }
 },
 "nbformat": 4,
 "nbformat_minor": 2
}
