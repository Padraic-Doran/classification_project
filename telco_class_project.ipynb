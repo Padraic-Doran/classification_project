{
 "cells": [
  {
   "cell_type": "markdown",
   "metadata": {},
   "source": [
    "# Acquire the Data\n",
    "\n",
    "## Acquiring Telco_churn data from SQL Database"
   ]
  },
  {
   "cell_type": "code",
   "execution_count": 14,
   "metadata": {},
   "outputs": [],
   "source": [
    "import env\n",
    "import pandas as pd\n",
    "from sklearn.preprocessing import StandardScaler, PowerTransformer, MinMaxScaler, RobustScaler, QuantileTransformer\n",
    "from sklearn.model_selection import train_test_split\n",
    "import numpy as np\n",
    "import pandas_profiling\n",
    "import seaborn as sns\n",
    "import matplotlib.pyplot as plt\n",
    "import csv\n",
    "from os import path\n",
    "import warnings\n",
    "warnings.filterwarnings(\"ignore\")\n",
    "from sklearn.model_selection import train_test_split\n",
    "from sklearn.impute import SimpleImputer\n",
    "import sklearn.preprocessing\n",
    "from sklearn.preprocessing import LabelEncoder\n",
    "from sklearn.preprocessing import OneHotEncoder\n",
    "from sklearn.preprocessing import MinMaxScaler\n",
    "import math\n",
    "import split_scale"
   ]
  },
  {
   "cell_type": "code",
   "execution_count": 15,
   "metadata": {},
   "outputs": [],
   "source": [
    "def get_db_url(db):\n",
    "    return f'mysql+pymysql://{env.user}:{env.password}@{env.host}/{db}'"
   ]
  },
  {
   "cell_type": "code",
   "execution_count": 16,
   "metadata": {},
   "outputs": [],
   "source": [
    "def get_telco_data_from_mysql():\n",
    "   \n",
    "    # Use a double \"%\" in order to escape %'s default string formatting behavior.\n",
    "    query = ''' Select * from customers\n",
    "JOIN contract_types USING (contract_type_id)\n",
    "Join internet_service_types USING (internet_service_type_id)\n",
    "JOIN payment_types USING (payment_type_id);\n",
    "\n",
    "    '''\n",
    "\n",
    "    url = get_db_url(\"telco_churn\") \n",
    "    df = pd.read_sql(query, url)\n",
    "    return df"
   ]
  },
  {
   "cell_type": "code",
   "execution_count": 17,
   "metadata": {},
   "outputs": [],
   "source": [
    "df = get_telco_data_from_mysql()"
   ]
  },
  {
   "cell_type": "markdown",
   "metadata": {},
   "source": [
    "# Look through the data and drop any nulls\n",
    "\n",
    "## Checking the data for unique values and possible future problems"
   ]
  },
  {
   "cell_type": "code",
   "execution_count": 18,
   "metadata": {},
   "outputs": [
    {
     "data": {
      "text/plain": [
       "payment_type_id             0\n",
       "internet_service_type_id    0\n",
       "contract_type_id            0\n",
       "customer_id                 0\n",
       "gender                      0\n",
       "senior_citizen              0\n",
       "partner                     0\n",
       "dependents                  0\n",
       "tenure                      0\n",
       "phone_service               0\n",
       "multiple_lines              0\n",
       "online_security             0\n",
       "online_backup               0\n",
       "device_protection           0\n",
       "tech_support                0\n",
       "streaming_tv                0\n",
       "streaming_movies            0\n",
       "paperless_billing           0\n",
       "monthly_charges             0\n",
       "total_charges               0\n",
       "churn                       0\n",
       "contract_type               0\n",
       "internet_service_type       0\n",
       "payment_type                0\n",
       "dtype: int64"
      ]
     },
     "execution_count": 18,
     "metadata": {},
     "output_type": "execute_result"
    }
   ],
   "source": [
    "df.isnull().sum()"
   ]
  },
  {
   "cell_type": "markdown",
   "metadata": {},
   "source": [
    "## It appears that there are no null values in any of the columns, which might make things easier. Let's have a peek at the types of data we're working with."
   ]
  },
  {
   "cell_type": "code",
   "execution_count": 19,
   "metadata": {},
   "outputs": [
    {
     "data": {
      "text/plain": [
       "Index(['payment_type_id', 'internet_service_type_id', 'contract_type_id',\n",
       "       'customer_id', 'gender', 'senior_citizen', 'partner', 'dependents',\n",
       "       'tenure', 'phone_service', 'multiple_lines', 'online_security',\n",
       "       'online_backup', 'device_protection', 'tech_support', 'streaming_tv',\n",
       "       'streaming_movies', 'paperless_billing', 'monthly_charges',\n",
       "       'total_charges', 'churn', 'contract_type', 'internet_service_type',\n",
       "       'payment_type'],\n",
       "      dtype='object')"
      ]
     },
     "execution_count": 19,
     "metadata": {},
     "output_type": "execute_result"
    }
   ],
   "source": [
    "df.columns"
   ]
  },
  {
   "cell_type": "code",
   "execution_count": 20,
   "metadata": {},
   "outputs": [
    {
     "data": {
      "text/plain": [
       "0                        No\n",
       "1                        No\n",
       "2                       Yes\n",
       "3                        No\n",
       "4                       Yes\n",
       "5                       Yes\n",
       "6                       Yes\n",
       "7                        No\n",
       "8                        No\n",
       "9                       Yes\n",
       "10                       No\n",
       "11                      Yes\n",
       "12                      Yes\n",
       "13                      Yes\n",
       "14                      Yes\n",
       "15                       No\n",
       "16                      Yes\n",
       "17                       No\n",
       "18                       No\n",
       "19                       No\n",
       "20                       No\n",
       "21                       No\n",
       "22                       No\n",
       "23                      Yes\n",
       "24                       No\n",
       "25                       No\n",
       "26                      Yes\n",
       "27                      Yes\n",
       "28                       No\n",
       "29                       No\n",
       "               ...         \n",
       "7013    No internet service\n",
       "7014    No internet service\n",
       "7015    No internet service\n",
       "7016    No internet service\n",
       "7017    No internet service\n",
       "7018    No internet service\n",
       "7019    No internet service\n",
       "7020    No internet service\n",
       "7021    No internet service\n",
       "7022    No internet service\n",
       "7023    No internet service\n",
       "7024    No internet service\n",
       "7025    No internet service\n",
       "7026    No internet service\n",
       "7027    No internet service\n",
       "7028    No internet service\n",
       "7029    No internet service\n",
       "7030    No internet service\n",
       "7031    No internet service\n",
       "7032    No internet service\n",
       "7033    No internet service\n",
       "7034    No internet service\n",
       "7035    No internet service\n",
       "7036    No internet service\n",
       "7037    No internet service\n",
       "7038    No internet service\n",
       "7039    No internet service\n",
       "7040    No internet service\n",
       "7041    No internet service\n",
       "7042    No internet service\n",
       "Name: online_security, Length: 7043, dtype: object"
      ]
     },
     "execution_count": 20,
     "metadata": {},
     "output_type": "execute_result"
    }
   ],
   "source": [
    "df.head()\n",
    "df['online_security']"
   ]
  },
  {
   "cell_type": "code",
   "execution_count": 21,
   "metadata": {},
   "outputs": [],
   "source": [
    "new_df = df[['customer_id', 'churn', 'contract_type_id', 'contract_type', 'monthly_charges', 'total_charges', 'gender', 'partner', 'dependents', 'senior_citizen', 'phone_service', 'multiple_lines', 'internet_service_type', 'internet_service_type_id' ,'tech_support', 'streaming_tv', 'streaming_movies', 'online_security', 'online_backup', 'device_protection', 'payment_type', 'payment_type_id', 'paperless_billing']]"
   ]
  },
  {
   "cell_type": "code",
   "execution_count": 22,
   "metadata": {},
   "outputs": [
    {
     "data": {
      "text/html": [
       "<div>\n",
       "<style scoped>\n",
       "    .dataframe tbody tr th:only-of-type {\n",
       "        vertical-align: middle;\n",
       "    }\n",
       "\n",
       "    .dataframe tbody tr th {\n",
       "        vertical-align: top;\n",
       "    }\n",
       "\n",
       "    .dataframe thead th {\n",
       "        text-align: right;\n",
       "    }\n",
       "</style>\n",
       "<table border=\"1\" class=\"dataframe\">\n",
       "  <thead>\n",
       "    <tr style=\"text-align: right;\">\n",
       "      <th></th>\n",
       "      <th>customer_id</th>\n",
       "      <th>churn</th>\n",
       "      <th>contract_type_id</th>\n",
       "      <th>contract_type</th>\n",
       "      <th>monthly_charges</th>\n",
       "      <th>total_charges</th>\n",
       "      <th>gender</th>\n",
       "      <th>partner</th>\n",
       "      <th>dependents</th>\n",
       "      <th>senior_citizen</th>\n",
       "      <th>...</th>\n",
       "      <th>internet_service_type_id</th>\n",
       "      <th>tech_support</th>\n",
       "      <th>streaming_tv</th>\n",
       "      <th>streaming_movies</th>\n",
       "      <th>online_security</th>\n",
       "      <th>online_backup</th>\n",
       "      <th>device_protection</th>\n",
       "      <th>payment_type</th>\n",
       "      <th>payment_type_id</th>\n",
       "      <th>paperless_billing</th>\n",
       "    </tr>\n",
       "  </thead>\n",
       "  <tbody>\n",
       "    <tr>\n",
       "      <th>0</th>\n",
       "      <td>0003-MKNFE</td>\n",
       "      <td>No</td>\n",
       "      <td>1</td>\n",
       "      <td>Month-to-month</td>\n",
       "      <td>59.9</td>\n",
       "      <td>542.4</td>\n",
       "      <td>Male</td>\n",
       "      <td>No</td>\n",
       "      <td>No</td>\n",
       "      <td>0</td>\n",
       "      <td>...</td>\n",
       "      <td>1</td>\n",
       "      <td>No</td>\n",
       "      <td>No</td>\n",
       "      <td>Yes</td>\n",
       "      <td>No</td>\n",
       "      <td>No</td>\n",
       "      <td>No</td>\n",
       "      <td>Mailed check</td>\n",
       "      <td>2</td>\n",
       "      <td>No</td>\n",
       "    </tr>\n",
       "    <tr>\n",
       "      <th>1</th>\n",
       "      <td>0013-MHZWF</td>\n",
       "      <td>No</td>\n",
       "      <td>1</td>\n",
       "      <td>Month-to-month</td>\n",
       "      <td>69.4</td>\n",
       "      <td>571.45</td>\n",
       "      <td>Female</td>\n",
       "      <td>No</td>\n",
       "      <td>Yes</td>\n",
       "      <td>0</td>\n",
       "      <td>...</td>\n",
       "      <td>1</td>\n",
       "      <td>Yes</td>\n",
       "      <td>Yes</td>\n",
       "      <td>Yes</td>\n",
       "      <td>No</td>\n",
       "      <td>No</td>\n",
       "      <td>No</td>\n",
       "      <td>Credit card (automatic)</td>\n",
       "      <td>4</td>\n",
       "      <td>Yes</td>\n",
       "    </tr>\n",
       "    <tr>\n",
       "      <th>2</th>\n",
       "      <td>0015-UOCOJ</td>\n",
       "      <td>No</td>\n",
       "      <td>1</td>\n",
       "      <td>Month-to-month</td>\n",
       "      <td>48.2</td>\n",
       "      <td>340.35</td>\n",
       "      <td>Female</td>\n",
       "      <td>No</td>\n",
       "      <td>No</td>\n",
       "      <td>1</td>\n",
       "      <td>...</td>\n",
       "      <td>1</td>\n",
       "      <td>No</td>\n",
       "      <td>No</td>\n",
       "      <td>No</td>\n",
       "      <td>Yes</td>\n",
       "      <td>No</td>\n",
       "      <td>No</td>\n",
       "      <td>Electronic check</td>\n",
       "      <td>1</td>\n",
       "      <td>Yes</td>\n",
       "    </tr>\n",
       "    <tr>\n",
       "      <th>3</th>\n",
       "      <td>0023-HGHWL</td>\n",
       "      <td>Yes</td>\n",
       "      <td>1</td>\n",
       "      <td>Month-to-month</td>\n",
       "      <td>25.1</td>\n",
       "      <td>25.1</td>\n",
       "      <td>Male</td>\n",
       "      <td>No</td>\n",
       "      <td>No</td>\n",
       "      <td>1</td>\n",
       "      <td>...</td>\n",
       "      <td>1</td>\n",
       "      <td>No</td>\n",
       "      <td>No</td>\n",
       "      <td>No</td>\n",
       "      <td>No</td>\n",
       "      <td>No</td>\n",
       "      <td>No</td>\n",
       "      <td>Electronic check</td>\n",
       "      <td>1</td>\n",
       "      <td>Yes</td>\n",
       "    </tr>\n",
       "    <tr>\n",
       "      <th>4</th>\n",
       "      <td>0032-PGELS</td>\n",
       "      <td>Yes</td>\n",
       "      <td>1</td>\n",
       "      <td>Month-to-month</td>\n",
       "      <td>30.5</td>\n",
       "      <td>30.5</td>\n",
       "      <td>Female</td>\n",
       "      <td>Yes</td>\n",
       "      <td>Yes</td>\n",
       "      <td>0</td>\n",
       "      <td>...</td>\n",
       "      <td>1</td>\n",
       "      <td>No</td>\n",
       "      <td>No</td>\n",
       "      <td>No</td>\n",
       "      <td>Yes</td>\n",
       "      <td>No</td>\n",
       "      <td>No</td>\n",
       "      <td>Bank transfer (automatic)</td>\n",
       "      <td>3</td>\n",
       "      <td>No</td>\n",
       "    </tr>\n",
       "  </tbody>\n",
       "</table>\n",
       "<p>5 rows × 23 columns</p>\n",
       "</div>"
      ],
      "text/plain": [
       "  customer_id churn  contract_type_id   contract_type  monthly_charges  \\\n",
       "0  0003-MKNFE    No                 1  Month-to-month             59.9   \n",
       "1  0013-MHZWF    No                 1  Month-to-month             69.4   \n",
       "2  0015-UOCOJ    No                 1  Month-to-month             48.2   \n",
       "3  0023-HGHWL   Yes                 1  Month-to-month             25.1   \n",
       "4  0032-PGELS   Yes                 1  Month-to-month             30.5   \n",
       "\n",
       "  total_charges  gender partner dependents  senior_citizen  ...  \\\n",
       "0         542.4    Male      No         No               0  ...   \n",
       "1        571.45  Female      No        Yes               0  ...   \n",
       "2        340.35  Female      No         No               1  ...   \n",
       "3          25.1    Male      No         No               1  ...   \n",
       "4          30.5  Female     Yes        Yes               0  ...   \n",
       "\n",
       "  internet_service_type_id tech_support streaming_tv  streaming_movies  \\\n",
       "0                        1           No           No               Yes   \n",
       "1                        1          Yes          Yes               Yes   \n",
       "2                        1           No           No                No   \n",
       "3                        1           No           No                No   \n",
       "4                        1           No           No                No   \n",
       "\n",
       "  online_security online_backup device_protection               payment_type  \\\n",
       "0              No            No                No               Mailed check   \n",
       "1              No            No                No    Credit card (automatic)   \n",
       "2             Yes            No                No           Electronic check   \n",
       "3              No            No                No           Electronic check   \n",
       "4             Yes            No                No  Bank transfer (automatic)   \n",
       "\n",
       "  payment_type_id paperless_billing  \n",
       "0               2                No  \n",
       "1               4               Yes  \n",
       "2               1               Yes  \n",
       "3               1               Yes  \n",
       "4               3                No  \n",
       "\n",
       "[5 rows x 23 columns]"
      ]
     },
     "execution_count": 22,
     "metadata": {},
     "output_type": "execute_result"
    }
   ],
   "source": [
    "new_df.head()"
   ]
  },
  {
   "cell_type": "markdown",
   "metadata": {},
   "source": [
    "# While there are no nulls that appear, there could be issues with trying to convert the datatypes of some columns"
   ]
  },
  {
   "cell_type": "code",
   "execution_count": 23,
   "metadata": {},
   "outputs": [],
   "source": [
    "new_df.replace(r'^\\s*$', np.nan, regex=True, inplace=True)"
   ]
  },
  {
   "cell_type": "code",
   "execution_count": 24,
   "metadata": {},
   "outputs": [],
   "source": [
    "df = new_df.dropna()"
   ]
  },
  {
   "cell_type": "code",
   "execution_count": 25,
   "metadata": {},
   "outputs": [
    {
     "name": "stdout",
     "output_type": "stream",
     "text": [
      "<class 'pandas.core.frame.DataFrame'>\n",
      "Int64Index: 7032 entries, 0 to 7042\n",
      "Data columns (total 23 columns):\n",
      "customer_id                 7032 non-null object\n",
      "churn                       7032 non-null object\n",
      "contract_type_id            7032 non-null int64\n",
      "contract_type               7032 non-null object\n",
      "monthly_charges             7032 non-null float64\n",
      "total_charges               7032 non-null float64\n",
      "gender                      7032 non-null object\n",
      "partner                     7032 non-null object\n",
      "dependents                  7032 non-null object\n",
      "senior_citizen              7032 non-null int64\n",
      "phone_service               7032 non-null object\n",
      "multiple_lines              7032 non-null object\n",
      "internet_service_type       7032 non-null object\n",
      "internet_service_type_id    7032 non-null int64\n",
      "tech_support                7032 non-null object\n",
      "streaming_tv                7032 non-null object\n",
      "streaming_movies            7032 non-null object\n",
      "online_security             7032 non-null object\n",
      "online_backup               7032 non-null object\n",
      "device_protection           7032 non-null object\n",
      "payment_type                7032 non-null object\n",
      "payment_type_id             7032 non-null int64\n",
      "paperless_billing           7032 non-null object\n",
      "dtypes: float64(2), int64(4), object(17)\n",
      "memory usage: 1.3+ MB\n"
     ]
    }
   ],
   "source": [
    "df.total_charges = df.total_charges.astype(float, inplace = True)\n",
    "df.info()"
   ]
  },
  {
   "cell_type": "markdown",
   "metadata": {},
   "source": [
    "# It appears that the regex expression has removed a few rows. It has allowed me to change a datatype from an object to a float"
   ]
  },
  {
   "cell_type": "markdown",
   "metadata": {},
   "source": [
    "## I want to parse down some of these columns to make things a little easier on my cognitive overhead. What I desire is a column with numeric encoders that represent a set of circumstances that can be explained in the data dictionary. First, I want to examine the unique values of these columns to make sure that they either say yes or no. If not, I need to do some replacing. Note that there are several columns that have id types already, which helps."
   ]
  },
  {
   "cell_type": "code",
   "execution_count": 26,
   "metadata": {},
   "outputs": [
    {
     "data": {
      "text/plain": [
       "array(['No', 'Yes'], dtype=object)"
      ]
     },
     "execution_count": 26,
     "metadata": {},
     "output_type": "execute_result"
    }
   ],
   "source": [
    "df.phone_service.unique()\n",
    "\n",
    "df.tech_support.replace('No internet service', 'No', inplace = True)\n",
    "df.tech_support.unique()"
   ]
  },
  {
   "cell_type": "code",
   "execution_count": 27,
   "metadata": {},
   "outputs": [],
   "source": [
    "## Taking a change in an effort to speed things up. Replacing 'No internet service' across the entire dataframe with 'No'\n",
    "## Hopefully this is not an Icarus moment for myself\n",
    "\n",
    "df.replace('No internet service', 'No', inplace = True)\n",
    "\n"
   ]
  },
  {
   "cell_type": "code",
   "execution_count": 28,
   "metadata": {},
   "outputs": [
    {
     "data": {
      "text/plain": [
       "array(['Yes', 'No', 'No phone service'], dtype=object)"
      ]
     },
     "execution_count": 28,
     "metadata": {},
     "output_type": "execute_result"
    }
   ],
   "source": [
    "df.multiple_lines.unique()\n",
    "\n",
    "## My first replace did not convert everything. I need to execute another one."
   ]
  },
  {
   "cell_type": "code",
   "execution_count": 29,
   "metadata": {},
   "outputs": [],
   "source": [
    "df.replace('No phone service', 'No', inplace=True)"
   ]
  },
  {
   "cell_type": "code",
   "execution_count": 30,
   "metadata": {},
   "outputs": [
    {
     "data": {
      "text/plain": [
       "array(['Yes', 'No'], dtype=object)"
      ]
     },
     "execution_count": 30,
     "metadata": {},
     "output_type": "execute_result"
    }
   ],
   "source": [
    "df.multiple_lines.unique()"
   ]
  },
  {
   "cell_type": "code",
   "execution_count": 31,
   "metadata": {},
   "outputs": [
    {
     "name": "stdout",
     "output_type": "stream",
     "text": [
      "<class 'pandas.core.frame.DataFrame'>\n",
      "Int64Index: 7032 entries, 0 to 7042\n",
      "Data columns (total 23 columns):\n",
      "customer_id                 7032 non-null object\n",
      "churn                       7032 non-null object\n",
      "contract_type_id            7032 non-null int64\n",
      "contract_type               7032 non-null object\n",
      "monthly_charges             7032 non-null float64\n",
      "total_charges               7032 non-null float64\n",
      "gender                      7032 non-null object\n",
      "partner                     7032 non-null object\n",
      "dependents                  7032 non-null object\n",
      "senior_citizen              7032 non-null int64\n",
      "phone_service               7032 non-null object\n",
      "multiple_lines              7032 non-null object\n",
      "internet_service_type       7032 non-null object\n",
      "internet_service_type_id    7032 non-null int64\n",
      "tech_support                7032 non-null object\n",
      "streaming_tv                7032 non-null object\n",
      "streaming_movies            7032 non-null object\n",
      "online_security             7032 non-null object\n",
      "online_backup               7032 non-null object\n",
      "device_protection           7032 non-null object\n",
      "payment_type                7032 non-null object\n",
      "payment_type_id             7032 non-null int64\n",
      "paperless_billing           7032 non-null object\n",
      "dtypes: float64(2), int64(4), object(17)\n",
      "memory usage: 1.3+ MB\n"
     ]
    }
   ],
   "source": [
    "# Tired of scrolling up\n",
    "\n",
    "df.info()"
   ]
  },
  {
   "cell_type": "code",
   "execution_count": 32,
   "metadata": {},
   "outputs": [
    {
     "data": {
      "text/plain": [
       "array(['Month-to-month', 'One year', 'Two year'], dtype=object)"
      ]
     },
     "execution_count": 32,
     "metadata": {},
     "output_type": "execute_result"
    }
   ],
   "source": [
    "df.contract_type.unique() # Have to leave this with multiple values"
   ]
  },
  {
   "cell_type": "code",
   "execution_count": 33,
   "metadata": {},
   "outputs": [
    {
     "data": {
      "text/plain": [
       "array(['No', 'Yes'], dtype=object)"
      ]
     },
     "execution_count": 33,
     "metadata": {},
     "output_type": "execute_result"
    }
   ],
   "source": [
    "df.partner.unique()"
   ]
  },
  {
   "cell_type": "code",
   "execution_count": 34,
   "metadata": {},
   "outputs": [
    {
     "data": {
      "text/plain": [
       "array(['No', 'Yes'], dtype=object)"
      ]
     },
     "execution_count": 34,
     "metadata": {},
     "output_type": "execute_result"
    }
   ],
   "source": [
    "df.dependents.unique()"
   ]
  },
  {
   "cell_type": "code",
   "execution_count": 35,
   "metadata": {},
   "outputs": [
    {
     "data": {
      "text/plain": [
       "array(['Yes', 'No'], dtype=object)"
      ]
     },
     "execution_count": 35,
     "metadata": {},
     "output_type": "execute_result"
    }
   ],
   "source": [
    "df.phone_service.unique()"
   ]
  },
  {
   "cell_type": "code",
   "execution_count": 36,
   "metadata": {},
   "outputs": [
    {
     "data": {
      "text/plain": [
       "array(['No', 'Yes'], dtype=object)"
      ]
     },
     "execution_count": 36,
     "metadata": {},
     "output_type": "execute_result"
    }
   ],
   "source": [
    "df.tech_support.unique()"
   ]
  },
  {
   "cell_type": "code",
   "execution_count": 37,
   "metadata": {},
   "outputs": [
    {
     "data": {
      "text/plain": [
       "array(['No', 'Yes'], dtype=object)"
      ]
     },
     "execution_count": 37,
     "metadata": {},
     "output_type": "execute_result"
    }
   ],
   "source": [
    "df.paperless_billing.unique()"
   ]
  },
  {
   "cell_type": "code",
   "execution_count": 38,
   "metadata": {},
   "outputs": [
    {
     "data": {
      "text/plain": [
       "array(['Male', 'Female'], dtype=object)"
      ]
     },
     "execution_count": 38,
     "metadata": {},
     "output_type": "execute_result"
    }
   ],
   "source": [
    "df.gender.unique()"
   ]
  },
  {
   "cell_type": "code",
   "execution_count": 39,
   "metadata": {},
   "outputs": [
    {
     "data": {
      "text/plain": [
       "array(['Yes', 'No'], dtype=object)"
      ]
     },
     "execution_count": 39,
     "metadata": {},
     "output_type": "execute_result"
    }
   ],
   "source": [
    "df.multiple_lines.unique()"
   ]
  },
  {
   "cell_type": "markdown",
   "metadata": {},
   "source": [
    "__It appears that I have my columns where I want them to be with their responses. The next step is to aggregate a few of these columns together by writing code the labels certain circumstances with a number. The first attempt will be with the column for male and female.__"
   ]
  },
  {
   "cell_type": "code",
   "execution_count": 40,
   "metadata": {},
   "outputs": [
    {
     "data": {
      "text/html": [
       "<div>\n",
       "<style scoped>\n",
       "    .dataframe tbody tr th:only-of-type {\n",
       "        vertical-align: middle;\n",
       "    }\n",
       "\n",
       "    .dataframe tbody tr th {\n",
       "        vertical-align: top;\n",
       "    }\n",
       "\n",
       "    .dataframe thead th {\n",
       "        text-align: right;\n",
       "    }\n",
       "</style>\n",
       "<table border=\"1\" class=\"dataframe\">\n",
       "  <thead>\n",
       "    <tr style=\"text-align: right;\">\n",
       "      <th></th>\n",
       "      <th>customer_id</th>\n",
       "      <th>churn</th>\n",
       "      <th>contract_type_id</th>\n",
       "      <th>contract_type</th>\n",
       "      <th>monthly_charges</th>\n",
       "      <th>total_charges</th>\n",
       "      <th>gender</th>\n",
       "      <th>partner</th>\n",
       "      <th>dependents</th>\n",
       "      <th>senior_citizen</th>\n",
       "      <th>...</th>\n",
       "      <th>tech_support</th>\n",
       "      <th>streaming_tv</th>\n",
       "      <th>streaming_movies</th>\n",
       "      <th>online_security</th>\n",
       "      <th>online_backup</th>\n",
       "      <th>device_protection</th>\n",
       "      <th>payment_type</th>\n",
       "      <th>payment_type_id</th>\n",
       "      <th>paperless_billing</th>\n",
       "      <th>e_gender</th>\n",
       "    </tr>\n",
       "  </thead>\n",
       "  <tbody>\n",
       "    <tr>\n",
       "      <th>0</th>\n",
       "      <td>0003-MKNFE</td>\n",
       "      <td>No</td>\n",
       "      <td>1</td>\n",
       "      <td>Month-to-month</td>\n",
       "      <td>59.9</td>\n",
       "      <td>542.40</td>\n",
       "      <td>Male</td>\n",
       "      <td>No</td>\n",
       "      <td>No</td>\n",
       "      <td>0</td>\n",
       "      <td>...</td>\n",
       "      <td>No</td>\n",
       "      <td>No</td>\n",
       "      <td>Yes</td>\n",
       "      <td>No</td>\n",
       "      <td>No</td>\n",
       "      <td>No</td>\n",
       "      <td>Mailed check</td>\n",
       "      <td>2</td>\n",
       "      <td>No</td>\n",
       "      <td>1</td>\n",
       "    </tr>\n",
       "    <tr>\n",
       "      <th>1</th>\n",
       "      <td>0013-MHZWF</td>\n",
       "      <td>No</td>\n",
       "      <td>1</td>\n",
       "      <td>Month-to-month</td>\n",
       "      <td>69.4</td>\n",
       "      <td>571.45</td>\n",
       "      <td>Female</td>\n",
       "      <td>No</td>\n",
       "      <td>Yes</td>\n",
       "      <td>0</td>\n",
       "      <td>...</td>\n",
       "      <td>Yes</td>\n",
       "      <td>Yes</td>\n",
       "      <td>Yes</td>\n",
       "      <td>No</td>\n",
       "      <td>No</td>\n",
       "      <td>No</td>\n",
       "      <td>Credit card (automatic)</td>\n",
       "      <td>4</td>\n",
       "      <td>Yes</td>\n",
       "      <td>0</td>\n",
       "    </tr>\n",
       "    <tr>\n",
       "      <th>2</th>\n",
       "      <td>0015-UOCOJ</td>\n",
       "      <td>No</td>\n",
       "      <td>1</td>\n",
       "      <td>Month-to-month</td>\n",
       "      <td>48.2</td>\n",
       "      <td>340.35</td>\n",
       "      <td>Female</td>\n",
       "      <td>No</td>\n",
       "      <td>No</td>\n",
       "      <td>1</td>\n",
       "      <td>...</td>\n",
       "      <td>No</td>\n",
       "      <td>No</td>\n",
       "      <td>No</td>\n",
       "      <td>Yes</td>\n",
       "      <td>No</td>\n",
       "      <td>No</td>\n",
       "      <td>Electronic check</td>\n",
       "      <td>1</td>\n",
       "      <td>Yes</td>\n",
       "      <td>0</td>\n",
       "    </tr>\n",
       "    <tr>\n",
       "      <th>3</th>\n",
       "      <td>0023-HGHWL</td>\n",
       "      <td>Yes</td>\n",
       "      <td>1</td>\n",
       "      <td>Month-to-month</td>\n",
       "      <td>25.1</td>\n",
       "      <td>25.10</td>\n",
       "      <td>Male</td>\n",
       "      <td>No</td>\n",
       "      <td>No</td>\n",
       "      <td>1</td>\n",
       "      <td>...</td>\n",
       "      <td>No</td>\n",
       "      <td>No</td>\n",
       "      <td>No</td>\n",
       "      <td>No</td>\n",
       "      <td>No</td>\n",
       "      <td>No</td>\n",
       "      <td>Electronic check</td>\n",
       "      <td>1</td>\n",
       "      <td>Yes</td>\n",
       "      <td>1</td>\n",
       "    </tr>\n",
       "    <tr>\n",
       "      <th>4</th>\n",
       "      <td>0032-PGELS</td>\n",
       "      <td>Yes</td>\n",
       "      <td>1</td>\n",
       "      <td>Month-to-month</td>\n",
       "      <td>30.5</td>\n",
       "      <td>30.50</td>\n",
       "      <td>Female</td>\n",
       "      <td>Yes</td>\n",
       "      <td>Yes</td>\n",
       "      <td>0</td>\n",
       "      <td>...</td>\n",
       "      <td>No</td>\n",
       "      <td>No</td>\n",
       "      <td>No</td>\n",
       "      <td>Yes</td>\n",
       "      <td>No</td>\n",
       "      <td>No</td>\n",
       "      <td>Bank transfer (automatic)</td>\n",
       "      <td>3</td>\n",
       "      <td>No</td>\n",
       "      <td>0</td>\n",
       "    </tr>\n",
       "  </tbody>\n",
       "</table>\n",
       "<p>5 rows × 24 columns</p>\n",
       "</div>"
      ],
      "text/plain": [
       "  customer_id churn  contract_type_id   contract_type  monthly_charges  \\\n",
       "0  0003-MKNFE    No                 1  Month-to-month             59.9   \n",
       "1  0013-MHZWF    No                 1  Month-to-month             69.4   \n",
       "2  0015-UOCOJ    No                 1  Month-to-month             48.2   \n",
       "3  0023-HGHWL   Yes                 1  Month-to-month             25.1   \n",
       "4  0032-PGELS   Yes                 1  Month-to-month             30.5   \n",
       "\n",
       "   total_charges  gender partner dependents  senior_citizen  ... tech_support  \\\n",
       "0         542.40    Male      No         No               0  ...           No   \n",
       "1         571.45  Female      No        Yes               0  ...          Yes   \n",
       "2         340.35  Female      No         No               1  ...           No   \n",
       "3          25.10    Male      No         No               1  ...           No   \n",
       "4          30.50  Female     Yes        Yes               0  ...           No   \n",
       "\n",
       "  streaming_tv streaming_movies  online_security online_backup  \\\n",
       "0           No              Yes               No            No   \n",
       "1          Yes              Yes               No            No   \n",
       "2           No               No              Yes            No   \n",
       "3           No               No               No            No   \n",
       "4           No               No              Yes            No   \n",
       "\n",
       "  device_protection               payment_type payment_type_id  \\\n",
       "0                No               Mailed check               2   \n",
       "1                No    Credit card (automatic)               4   \n",
       "2                No           Electronic check               1   \n",
       "3                No           Electronic check               1   \n",
       "4                No  Bank transfer (automatic)               3   \n",
       "\n",
       "  paperless_billing e_gender  \n",
       "0                No        1  \n",
       "1               Yes        0  \n",
       "2               Yes        0  \n",
       "3               Yes        1  \n",
       "4                No        0  \n",
       "\n",
       "[5 rows x 24 columns]"
      ]
     },
     "execution_count": 40,
     "metadata": {},
     "output_type": "execute_result"
    }
   ],
   "source": [
    "df['e_gender'] = df['gender'].apply({\"Male\":1,'Female':0}.get)\n",
    "df.head()"
   ]
  },
  {
   "cell_type": "code",
   "execution_count": 55,
   "metadata": {},
   "outputs": [
    {
     "data": {
      "text/html": [
       "<div>\n",
       "<style scoped>\n",
       "    .dataframe tbody tr th:only-of-type {\n",
       "        vertical-align: middle;\n",
       "    }\n",
       "\n",
       "    .dataframe tbody tr th {\n",
       "        vertical-align: top;\n",
       "    }\n",
       "\n",
       "    .dataframe thead th {\n",
       "        text-align: right;\n",
       "    }\n",
       "</style>\n",
       "<table border=\"1\" class=\"dataframe\">\n",
       "  <thead>\n",
       "    <tr style=\"text-align: right;\">\n",
       "      <th></th>\n",
       "      <th>customer_id</th>\n",
       "      <th>churn</th>\n",
       "      <th>contract_type_id</th>\n",
       "      <th>contract_type</th>\n",
       "      <th>monthly_charges</th>\n",
       "      <th>total_charges</th>\n",
       "      <th>gender</th>\n",
       "      <th>partner</th>\n",
       "      <th>dependents</th>\n",
       "      <th>senior_citizen</th>\n",
       "      <th>...</th>\n",
       "      <th>payment_type_id</th>\n",
       "      <th>paperless_billing</th>\n",
       "      <th>e_gender</th>\n",
       "      <th>family</th>\n",
       "      <th>phone_services</th>\n",
       "      <th>streaming_services</th>\n",
       "      <th>online_services</th>\n",
       "      <th>e_tech_support</th>\n",
       "      <th>e_device_protection</th>\n",
       "      <th>e_paperless_billing</th>\n",
       "    </tr>\n",
       "  </thead>\n",
       "  <tbody>\n",
       "    <tr>\n",
       "      <th>0</th>\n",
       "      <td>0003-MKNFE</td>\n",
       "      <td>No</td>\n",
       "      <td>1</td>\n",
       "      <td>Month-to-month</td>\n",
       "      <td>59.9</td>\n",
       "      <td>542.40</td>\n",
       "      <td>Male</td>\n",
       "      <td>No</td>\n",
       "      <td>No</td>\n",
       "      <td>0</td>\n",
       "      <td>...</td>\n",
       "      <td>2</td>\n",
       "      <td>No</td>\n",
       "      <td>1</td>\n",
       "      <td>3</td>\n",
       "      <td>0</td>\n",
       "      <td>2</td>\n",
       "      <td>3</td>\n",
       "      <td>0</td>\n",
       "      <td>0</td>\n",
       "      <td>0</td>\n",
       "    </tr>\n",
       "    <tr>\n",
       "      <th>1</th>\n",
       "      <td>0013-MHZWF</td>\n",
       "      <td>No</td>\n",
       "      <td>1</td>\n",
       "      <td>Month-to-month</td>\n",
       "      <td>69.4</td>\n",
       "      <td>571.45</td>\n",
       "      <td>Female</td>\n",
       "      <td>No</td>\n",
       "      <td>Yes</td>\n",
       "      <td>0</td>\n",
       "      <td>...</td>\n",
       "      <td>4</td>\n",
       "      <td>Yes</td>\n",
       "      <td>0</td>\n",
       "      <td>2</td>\n",
       "      <td>1</td>\n",
       "      <td>0</td>\n",
       "      <td>3</td>\n",
       "      <td>1</td>\n",
       "      <td>0</td>\n",
       "      <td>1</td>\n",
       "    </tr>\n",
       "    <tr>\n",
       "      <th>2</th>\n",
       "      <td>0015-UOCOJ</td>\n",
       "      <td>No</td>\n",
       "      <td>1</td>\n",
       "      <td>Month-to-month</td>\n",
       "      <td>48.2</td>\n",
       "      <td>340.35</td>\n",
       "      <td>Female</td>\n",
       "      <td>No</td>\n",
       "      <td>No</td>\n",
       "      <td>1</td>\n",
       "      <td>...</td>\n",
       "      <td>1</td>\n",
       "      <td>Yes</td>\n",
       "      <td>0</td>\n",
       "      <td>3</td>\n",
       "      <td>1</td>\n",
       "      <td>3</td>\n",
       "      <td>1</td>\n",
       "      <td>0</td>\n",
       "      <td>0</td>\n",
       "      <td>1</td>\n",
       "    </tr>\n",
       "    <tr>\n",
       "      <th>3</th>\n",
       "      <td>0023-HGHWL</td>\n",
       "      <td>Yes</td>\n",
       "      <td>1</td>\n",
       "      <td>Month-to-month</td>\n",
       "      <td>25.1</td>\n",
       "      <td>25.10</td>\n",
       "      <td>Male</td>\n",
       "      <td>No</td>\n",
       "      <td>No</td>\n",
       "      <td>1</td>\n",
       "      <td>...</td>\n",
       "      <td>1</td>\n",
       "      <td>Yes</td>\n",
       "      <td>1</td>\n",
       "      <td>3</td>\n",
       "      <td>2</td>\n",
       "      <td>3</td>\n",
       "      <td>3</td>\n",
       "      <td>0</td>\n",
       "      <td>0</td>\n",
       "      <td>1</td>\n",
       "    </tr>\n",
       "    <tr>\n",
       "      <th>4</th>\n",
       "      <td>0032-PGELS</td>\n",
       "      <td>Yes</td>\n",
       "      <td>1</td>\n",
       "      <td>Month-to-month</td>\n",
       "      <td>30.5</td>\n",
       "      <td>30.50</td>\n",
       "      <td>Female</td>\n",
       "      <td>Yes</td>\n",
       "      <td>Yes</td>\n",
       "      <td>0</td>\n",
       "      <td>...</td>\n",
       "      <td>3</td>\n",
       "      <td>No</td>\n",
       "      <td>0</td>\n",
       "      <td>0</td>\n",
       "      <td>2</td>\n",
       "      <td>3</td>\n",
       "      <td>1</td>\n",
       "      <td>0</td>\n",
       "      <td>0</td>\n",
       "      <td>0</td>\n",
       "    </tr>\n",
       "  </tbody>\n",
       "</table>\n",
       "<p>5 rows × 31 columns</p>\n",
       "</div>"
      ],
      "text/plain": [
       "  customer_id churn  contract_type_id   contract_type  monthly_charges  \\\n",
       "0  0003-MKNFE    No                 1  Month-to-month             59.9   \n",
       "1  0013-MHZWF    No                 1  Month-to-month             69.4   \n",
       "2  0015-UOCOJ    No                 1  Month-to-month             48.2   \n",
       "3  0023-HGHWL   Yes                 1  Month-to-month             25.1   \n",
       "4  0032-PGELS   Yes                 1  Month-to-month             30.5   \n",
       "\n",
       "   total_charges  gender partner dependents  senior_citizen  ...  \\\n",
       "0         542.40    Male      No         No               0  ...   \n",
       "1         571.45  Female      No        Yes               0  ...   \n",
       "2         340.35  Female      No         No               1  ...   \n",
       "3          25.10    Male      No         No               1  ...   \n",
       "4          30.50  Female     Yes        Yes               0  ...   \n",
       "\n",
       "  payment_type_id paperless_billing e_gender  family phone_services  \\\n",
       "0               2                No        1       3              0   \n",
       "1               4               Yes        0       2              1   \n",
       "2               1               Yes        0       3              1   \n",
       "3               1               Yes        1       3              2   \n",
       "4               3                No        0       0              2   \n",
       "\n",
       "  streaming_services online_services e_tech_support e_device_protection  \\\n",
       "0                  2               3              0                   0   \n",
       "1                  0               3              1                   0   \n",
       "2                  3               1              0                   0   \n",
       "3                  3               3              0                   0   \n",
       "4                  3               1              0                   0   \n",
       "\n",
       "  e_paperless_billing  \n",
       "0                   0  \n",
       "1                   1  \n",
       "2                   1  \n",
       "3                   1  \n",
       "4                   0  \n",
       "\n",
       "[5 rows x 31 columns]"
      ]
     },
     "execution_count": 55,
     "metadata": {},
     "output_type": "execute_result"
    }
   ],
   "source": [
    "# Creating coding references that reduce the number of columns that I have without using the label encoder function from scikit.\n",
    "\n",
    "#Family describes the family type based on partners and children\n",
    "\n",
    "conditions_1 =[\n",
    "    (df['partner']=='Yes')& (df['dependents']=='Yes'),\n",
    "    (df['partner']=='Yes')& (df['dependents']=='No'),\n",
    "    (df['partner']=='No')& (df['dependents']=='Yes'),\n",
    "    (df['partner']=='No')& (df['dependents']=='No')]\n",
    "choices_1 = [0,1,2,3]\n",
    "df['family'] = np.select(conditions_1, choices_1)\n",
    "\n",
    "#Phone services describes whether someone has a phone plan and whether or not they have multiple lines\n",
    "\n",
    "conditions_2 =[\n",
    "    (df['phone_service']=='Yes')& (df['multiple_lines']=='Yes'),\n",
    "    (df['phone_service']=='Yes')& (df['multiple_lines']=='No'),\n",
    "    (df['phone_service']=='No')& (df['multiple_lines']== 'No')]\n",
    "choices_2 = [0,1,2]\n",
    "df['phone_services'] = np.select(conditions_2, choices_2)\n",
    "\n",
    "#Streaming services denotes what streaming services someone has.\n",
    "\n",
    "conditions_3 =[\n",
    "    (df['streaming_tv']=='Yes')& (df['streaming_movies']=='Yes'),\n",
    "    (df['streaming_tv']=='Yes')& (df['streaming_movies']=='No'),\n",
    "    (df['streaming_tv']=='No')& (df['streaming_movies']=='Yes'),\n",
    "    (df['streaming_tv']=='No')& (df['streaming_movies']=='No')]\n",
    "choices_3 = [0,1,2,3]\n",
    "df['streaming_services'] = np.select(conditions_3, choices_3)\n",
    "\n",
    "#Online_services describes what types of online services someone has.\n",
    "\n",
    "conditions_4=[\n",
    "    (df['online_security']=='Yes')& (df['online_backup']=='Yes'),\n",
    "    (df['online_security']=='Yes')& (df['online_backup']=='No'),\n",
    "    (df['online_security']=='No')& (df['online_backup']=='Yes'),\n",
    "    (df['online_security']=='No')& (df['online_backup']=='No')]\n",
    "choices_4 = [0,1,2,3]\n",
    "df['online_services'] = np.select(conditions_4, choices_4)\n",
    "\n",
    "#Tech_support as to whether someone has tech support\n",
    "\n",
    "df['e_tech_support'] = df['tech_support'].apply({\"Yes\":1,'No':0}.get)\n",
    "\n",
    "# I'm confident you're getting the sentiment of these\n",
    "\n",
    "df['e_device_protection'] = df['device_protection'].apply({\"Yes\":1,'No':0}.get)\n",
    "\n",
    "# Looking for eco allies with this function\n",
    "\n",
    "df['e_paperless_billing'] = df['paperless_billing'].apply({\"Yes\":1,'No':0}.get)\n",
    "\n",
    "# df.drop(columns= 'e_senior_citizen', inplace = True)\n",
    "df.head()"
   ]
  },
  {
   "cell_type": "code",
   "execution_count": 56,
   "metadata": {},
   "outputs": [
    {
     "data": {
      "text/plain": [
       "Index(['customer_id', 'churn', 'contract_type_id', 'contract_type',\n",
       "       'monthly_charges', 'total_charges', 'gender', 'partner', 'dependents',\n",
       "       'senior_citizen', 'phone_service', 'multiple_lines',\n",
       "       'internet_service_type', 'internet_service_type_id', 'tech_support',\n",
       "       'streaming_tv', 'streaming_movies', 'online_security', 'online_backup',\n",
       "       'device_protection', 'payment_type', 'payment_type_id',\n",
       "       'paperless_billing', 'e_gender', 'family', 'phone_services',\n",
       "       'streaming_services', 'online_services', 'e_tech_support',\n",
       "       'e_device_protection', 'e_paperless_billing'],\n",
       "      dtype='object')"
      ]
     },
     "execution_count": 56,
     "metadata": {},
     "output_type": "execute_result"
    }
   ],
   "source": [
    "df.columns"
   ]
  },
  {
   "cell_type": "markdown",
   "metadata": {},
   "source": [
    "# I've created a big old dataeframe that has many columns. I want to simplify what I am looking for, so I am going to create a new dataframe comprising all of the encoded columns. I will also create a data dictionary in my README.md so I can keep track of my encoding."
   ]
  },
  {
   "cell_type": "code",
   "execution_count": 57,
   "metadata": {},
   "outputs": [],
   "source": [
    "encoded_df = df[['customer_id', 'churn','e_gender' ,'contract_type_id', 'contract_type',\n",
    "       'monthly_charges', 'total_charges','senior_citizen','internet_service_type_id','family', 'phone_services',\n",
    "       'streaming_services', 'online_services', 'e_tech_support',\n",
    "       'e_device_protection', 'e_paperless_billing' ]]"
   ]
  },
  {
   "cell_type": "code",
   "execution_count": 58,
   "metadata": {},
   "outputs": [
    {
     "data": {
      "text/html": [
       "<div>\n",
       "<style scoped>\n",
       "    .dataframe tbody tr th:only-of-type {\n",
       "        vertical-align: middle;\n",
       "    }\n",
       "\n",
       "    .dataframe tbody tr th {\n",
       "        vertical-align: top;\n",
       "    }\n",
       "\n",
       "    .dataframe thead th {\n",
       "        text-align: right;\n",
       "    }\n",
       "</style>\n",
       "<table border=\"1\" class=\"dataframe\">\n",
       "  <thead>\n",
       "    <tr style=\"text-align: right;\">\n",
       "      <th></th>\n",
       "      <th>customer_id</th>\n",
       "      <th>churn</th>\n",
       "      <th>e_gender</th>\n",
       "      <th>contract_type_id</th>\n",
       "      <th>contract_type</th>\n",
       "      <th>monthly_charges</th>\n",
       "      <th>total_charges</th>\n",
       "      <th>senior_citizen</th>\n",
       "      <th>internet_service_type_id</th>\n",
       "      <th>family</th>\n",
       "      <th>phone_services</th>\n",
       "      <th>streaming_services</th>\n",
       "      <th>online_services</th>\n",
       "      <th>e_tech_support</th>\n",
       "      <th>e_device_protection</th>\n",
       "      <th>e_paperless_billing</th>\n",
       "    </tr>\n",
       "  </thead>\n",
       "  <tbody>\n",
       "    <tr>\n",
       "      <th>0</th>\n",
       "      <td>0003-MKNFE</td>\n",
       "      <td>No</td>\n",
       "      <td>1</td>\n",
       "      <td>1</td>\n",
       "      <td>Month-to-month</td>\n",
       "      <td>59.9</td>\n",
       "      <td>542.40</td>\n",
       "      <td>0</td>\n",
       "      <td>1</td>\n",
       "      <td>3</td>\n",
       "      <td>0</td>\n",
       "      <td>2</td>\n",
       "      <td>3</td>\n",
       "      <td>0</td>\n",
       "      <td>0</td>\n",
       "      <td>0</td>\n",
       "    </tr>\n",
       "    <tr>\n",
       "      <th>1</th>\n",
       "      <td>0013-MHZWF</td>\n",
       "      <td>No</td>\n",
       "      <td>0</td>\n",
       "      <td>1</td>\n",
       "      <td>Month-to-month</td>\n",
       "      <td>69.4</td>\n",
       "      <td>571.45</td>\n",
       "      <td>0</td>\n",
       "      <td>1</td>\n",
       "      <td>2</td>\n",
       "      <td>1</td>\n",
       "      <td>0</td>\n",
       "      <td>3</td>\n",
       "      <td>1</td>\n",
       "      <td>0</td>\n",
       "      <td>1</td>\n",
       "    </tr>\n",
       "    <tr>\n",
       "      <th>2</th>\n",
       "      <td>0015-UOCOJ</td>\n",
       "      <td>No</td>\n",
       "      <td>0</td>\n",
       "      <td>1</td>\n",
       "      <td>Month-to-month</td>\n",
       "      <td>48.2</td>\n",
       "      <td>340.35</td>\n",
       "      <td>1</td>\n",
       "      <td>1</td>\n",
       "      <td>3</td>\n",
       "      <td>1</td>\n",
       "      <td>3</td>\n",
       "      <td>1</td>\n",
       "      <td>0</td>\n",
       "      <td>0</td>\n",
       "      <td>1</td>\n",
       "    </tr>\n",
       "    <tr>\n",
       "      <th>3</th>\n",
       "      <td>0023-HGHWL</td>\n",
       "      <td>Yes</td>\n",
       "      <td>1</td>\n",
       "      <td>1</td>\n",
       "      <td>Month-to-month</td>\n",
       "      <td>25.1</td>\n",
       "      <td>25.10</td>\n",
       "      <td>1</td>\n",
       "      <td>1</td>\n",
       "      <td>3</td>\n",
       "      <td>2</td>\n",
       "      <td>3</td>\n",
       "      <td>3</td>\n",
       "      <td>0</td>\n",
       "      <td>0</td>\n",
       "      <td>1</td>\n",
       "    </tr>\n",
       "    <tr>\n",
       "      <th>4</th>\n",
       "      <td>0032-PGELS</td>\n",
       "      <td>Yes</td>\n",
       "      <td>0</td>\n",
       "      <td>1</td>\n",
       "      <td>Month-to-month</td>\n",
       "      <td>30.5</td>\n",
       "      <td>30.50</td>\n",
       "      <td>0</td>\n",
       "      <td>1</td>\n",
       "      <td>0</td>\n",
       "      <td>2</td>\n",
       "      <td>3</td>\n",
       "      <td>1</td>\n",
       "      <td>0</td>\n",
       "      <td>0</td>\n",
       "      <td>0</td>\n",
       "    </tr>\n",
       "  </tbody>\n",
       "</table>\n",
       "</div>"
      ],
      "text/plain": [
       "  customer_id churn  e_gender  contract_type_id   contract_type  \\\n",
       "0  0003-MKNFE    No         1                 1  Month-to-month   \n",
       "1  0013-MHZWF    No         0                 1  Month-to-month   \n",
       "2  0015-UOCOJ    No         0                 1  Month-to-month   \n",
       "3  0023-HGHWL   Yes         1                 1  Month-to-month   \n",
       "4  0032-PGELS   Yes         0                 1  Month-to-month   \n",
       "\n",
       "   monthly_charges  total_charges  senior_citizen  internet_service_type_id  \\\n",
       "0             59.9         542.40               0                         1   \n",
       "1             69.4         571.45               0                         1   \n",
       "2             48.2         340.35               1                         1   \n",
       "3             25.1          25.10               1                         1   \n",
       "4             30.5          30.50               0                         1   \n",
       "\n",
       "   family  phone_services  streaming_services  online_services  \\\n",
       "0       3               0                   2                3   \n",
       "1       2               1                   0                3   \n",
       "2       3               1                   3                1   \n",
       "3       3               2                   3                3   \n",
       "4       0               2                   3                1   \n",
       "\n",
       "   e_tech_support  e_device_protection  e_paperless_billing  \n",
       "0               0                    0                    0  \n",
       "1               1                    0                    1  \n",
       "2               0                    0                    1  \n",
       "3               0                    0                    1  \n",
       "4               0                    0                    0  "
      ]
     },
     "execution_count": 58,
     "metadata": {},
     "output_type": "execute_result"
    }
   ],
   "source": [
    "encoded_df.head()"
   ]
  },
  {
   "cell_type": "markdown",
   "metadata": {},
   "source": [
    "# Looks a lot cleaner at this stage. Going to create a data dictionary at this point so I can have a quick reference to my encoding."
   ]
  },
  {
   "cell_type": "code",
   "execution_count": null,
   "metadata": {},
   "outputs": [],
   "source": []
  }
 ],
 "metadata": {
  "kernelspec": {
   "display_name": "Python 3",
   "language": "python",
   "name": "python3"
  },
  "language_info": {
   "codemirror_mode": {
    "name": "ipython",
    "version": 3
   },
   "file_extension": ".py",
   "mimetype": "text/x-python",
   "name": "python",
   "nbconvert_exporter": "python",
   "pygments_lexer": "ipython3",
   "version": "3.7.3"
  }
 },
 "nbformat": 4,
 "nbformat_minor": 2
}
