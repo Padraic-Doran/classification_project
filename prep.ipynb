{
 "cells": [
  {
   "cell_type": "code",
   "execution_count": 1,
   "metadata": {},
   "outputs": [],
   "source": [
    "import env\n",
    "import pandas as pd\n",
    "from sklearn.preprocessing import StandardScaler, PowerTransformer, MinMaxScaler, RobustScaler, QuantileTransformer\n",
    "from sklearn.model_selection import train_test_split\n",
    "import numpy as np\n",
    "import pandas_profiling\n",
    "import seaborn as sns\n",
    "import matplotlib.pyplot as plt\n",
    "import csv\n",
    "from os import path\n",
    "import warnings\n",
    "warnings.filterwarnings(\"ignore\")\n",
    "from sklearn.model_selection import train_test_split\n",
    "from sklearn.impute import SimpleImputer\n",
    "import sklearn.preprocessing\n",
    "from sklearn.preprocessing import LabelEncoder\n",
    "from sklearn.preprocessing import OneHotEncoder\n",
    "from sklearn.preprocessing import MinMaxScaler\n",
    "import math\n",
    "import split_scale\n",
    "from sklearn.tree import DecisionTreeClassifier, export_graphviz\n",
    "from sklearn.metrics import confusion_matrix, classification_report\n",
    "from graphviz import Source\n",
    "from scipy import stats"
   ]
  },
  {
   "cell_type": "code",
   "execution_count": 2,
   "metadata": {},
   "outputs": [],
   "source": [
    "def get_db_url(db):\n",
    "    return f'mysql+pymysql://{env.user}:{env.password}@{env.host}/{db}'"
   ]
  },
  {
   "cell_type": "code",
   "execution_count": 3,
   "metadata": {},
   "outputs": [],
   "source": [
    "def get_telco_data_from_mysql():\n",
    "   \n",
    "    # Use a double \"%\" in order to escape %'s default string formatting behavior.\n",
    "    query = ''' Select * from customers\n",
    "JOIN contract_types USING (contract_type_id)\n",
    "Join internet_service_types USING (internet_service_type_id)\n",
    "JOIN payment_types USING (payment_type_id);\n",
    "\n",
    "    '''\n",
    "\n",
    "    url = get_db_url(\"telco_churn\") \n",
    "    df = pd.read_sql(query, url)\n",
    "    return df"
   ]
  },
  {
   "cell_type": "code",
   "execution_count": 5,
   "metadata": {},
   "outputs": [],
   "source": [
    "df = get_telco_data_from_mysql()\n",
    "new_df = df[['customer_id', 'churn', 'contract_type_id', 'contract_type', 'tenure', 'monthly_charges', 'total_charges', 'gender', 'partner', 'dependents', 'senior_citizen', 'phone_service', 'multiple_lines', 'internet_service_type', 'internet_service_type_id' ,'tech_support', 'streaming_tv', 'streaming_movies', 'online_security', 'online_backup', 'device_protection', 'payment_type', 'payment_type_id', 'paperless_billing']]"
   ]
  },
  {
   "cell_type": "code",
   "execution_count": 7,
   "metadata": {},
   "outputs": [],
   "source": [
    "def prep(df):\n",
    "    df = get_telco_data_from_mysql()\n",
    "    new_df = df[['customer_id', 'churn', 'contract_type_id', 'contract_type', 'tenure', 'monthly_charges', 'total_charges', 'gender', 'partner', 'dependents', 'senior_citizen', 'phone_service', 'multiple_lines', 'internet_service_type', 'internet_service_type_id' ,'tech_support', 'streaming_tv', 'streaming_movies', 'online_security', 'online_backup', 'device_protection', 'payment_type', 'payment_type_id', 'paperless_billing']]\n",
    "    new_df.replace(r'^\\s*$', np.nan, regex=True, inplace=True)\n",
    "    df = new_df.dropna()\n",
    "    df.total_charges = df.total_charges.astype(float, inplace = True)\n",
    "    df.tech_support.replace('No internet service', 'No', inplace = True)\n",
    "    df.replace('No internet service', 'No', inplace = True)\n",
    "    df.replace('No phone service', 'No', inplace=True)\n",
    "    return df\n",
    "\n"
   ]
  },
  {
   "cell_type": "code",
   "execution_count": 8,
   "metadata": {},
   "outputs": [],
   "source": [
    "def encode(df):\n",
    "#     Family describes the family type based on partners and children\n",
    "\n",
    "    conditions_1 =[\n",
    "        (df['partner']=='Yes')& (df['dependents']=='Yes'),\n",
    "        (df['partner']=='Yes')& (df['dependents']=='No'),\n",
    "        (df['partner']=='No')& (df['dependents']=='Yes'),\n",
    "        (df['partner']=='No')& (df['dependents']=='No')]\n",
    "    choices_1 = [0,1,2,3]\n",
    "    df['family'] = np.select(conditions_1, choices_1)\n",
    "\n",
    "#Phone services describes whether someone has a phone plan and whether or not they have multiple lines\n",
    "\n",
    "    conditions_2 =[\n",
    "        (df['phone_service']=='Yes')& (df['multiple_lines']=='Yes'),\n",
    "        (df['phone_service']=='Yes')& (df['multiple_lines']=='No'),\n",
    "        (df['phone_service']=='No')& (df['multiple_lines']== 'No')]\n",
    "    choices_2 = [0,1,2]\n",
    "    df['phone_services'] = np.select(conditions_2, choices_2)\n",
    "\n",
    "#Streaming services denotes what streaming services someone has.\n",
    "\n",
    "    conditions_3 =[\n",
    "        (df['streaming_tv']=='Yes')& (df['streaming_movies']=='Yes'),\n",
    "        (df['streaming_tv']=='Yes')& (df['streaming_movies']=='No'),\n",
    "        (df['streaming_tv']=='No')& (df['streaming_movies']=='Yes'),\n",
    "        (df['streaming_tv']=='No')& (df['streaming_movies']=='No')]\n",
    "    choices_3 = [0,1,2,3]\n",
    "    df['streaming_services'] = np.select(conditions_3, choices_3)\n",
    "\n",
    "#Online_services describes what types of online services someone has.\n",
    "\n",
    "    conditions_4=[\n",
    "        (df['online_security']=='Yes')& (df['online_backup']=='Yes'),\n",
    "        (df['online_security']=='Yes')& (df['online_backup']=='No'),\n",
    "        (df['online_security']=='No')& (df['online_backup']=='Yes'),\n",
    "        (df['online_security']=='No')& (df['online_backup']=='No')]\n",
    "    choices_4 = [0,1,2,3]\n",
    "    df['online_services'] = np.select(conditions_4, choices_4)\n",
    "\n",
    "#Tech_support as to whether someone has tech support\n",
    "\n",
    "    df['e_tech_support'] = df['tech_support'].apply({\"Yes\":1,'No':0}.get)\n",
    "\n",
    "# I'm confident you're getting the sentiment of these\n",
    "\n",
    "    df['e_device_protection'] = df['device_protection'].apply({\"Yes\":1,'No':0}.get)\n",
    "\n",
    "# Looking for eco allies with this function\n",
    "\n",
    "    df['e_paperless_billing'] = df['paperless_billing'].apply({\"Yes\":1,'No':0}.get)\n",
    "\n",
    "    df['e_churn'] = df['churn'].apply({\"Yes\":1,'No':0}.get)\n",
    "\n",
    "    encoded_df = df[['customer_id', 'e_churn','e_gender' ,'contract_type_id', 'contract_type','tenure',\n",
    "       'monthly_charges', 'total_charges','senior_citizen','internet_service_type_id','family', 'phone_services',\n",
    "       'streaming_services', 'online_services', 'e_tech_support',\n",
    "       'e_device_protection', 'e_paperless_billing', 'payment_type_id' ]]\n",
    "    return encoded_df\n",
    "# df.drop(columns= 'e_senior_citizen', inplace = True)"
   ]
  },
  {
   "cell_type": "code",
   "execution_count": 13,
   "metadata": {},
   "outputs": [],
   "source": [
    "def split_scale(df, test_size, random_state, stratify):\n",
    "    train, test = train_test_split(encoded_df, test_size=.3, random_state=123, stratify=encoded_df.e_churn)\n",
    "    X_train = train.drop(columns = ['customer_id', 'contract_type', 'e_churn'])\n",
    "    X_test = test.drop(columns = ['customer_id', 'contract_type', 'e_churn'])\n",
    "    y_train = train['e_churn']\n",
    "    y_test = test['e_churn']\n",
    "    numeric_X_train = X_train.drop(columns = ['e_gender', 'contract_type_id', 'streaming_services', 'online_services', 'e_tech_support', 'e_device_protection', 'e_paperless_billing','senior_citizen',\n",
    "       'internet_service_type_id', 'family', 'phone_services', 'payment_type_id'])\n",
    "    numeric_X_test = X_test.drop(columns = ['e_gender', 'contract_type_id', 'streaming_services', 'online_services', 'e_tech_support', 'e_device_protection', 'e_paperless_billing','senior_citizen',\n",
    "       'internet_service_type_id', 'family', 'phone_services', 'payment_type_id'])\n",
    "    return X_train, X_test, y_train, y_test, numeric_X_train, numeric_X_test"
   ]
  },
  {
   "cell_type": "code",
   "execution_count": null,
   "metadata": {},
   "outputs": [],
   "source": []
  }
 ],
 "metadata": {
  "kernelspec": {
   "display_name": "Python 3",
   "language": "python",
   "name": "python3"
  },
  "language_info": {
   "codemirror_mode": {
    "name": "ipython",
    "version": 3
   },
   "file_extension": ".py",
   "mimetype": "text/x-python",
   "name": "python",
   "nbconvert_exporter": "python",
   "pygments_lexer": "ipython3",
   "version": "3.7.3"
  }
 },
 "nbformat": 4,
 "nbformat_minor": 2
}
