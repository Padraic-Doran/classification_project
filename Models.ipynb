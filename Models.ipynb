{
 "cells": [
  {
   "cell_type": "code",
   "execution_count": 1,
   "metadata": {},
   "outputs": [],
   "source": [
    "import env\n",
    "import prep\n",
    "# import models\n",
    "import pandas as pd\n",
    "from sklearn.preprocessing import StandardScaler, PowerTransformer, MinMaxScaler, RobustScaler, QuantileTransformer\n",
    "from sklearn.model_selection import train_test_split\n",
    "import numpy as np\n",
    "import pandas_profiling\n",
    "import seaborn as sns\n",
    "import matplotlib.pyplot as plt\n",
    "import csv\n",
    "from os import path\n",
    "import warnings\n",
    "warnings.filterwarnings(\"ignore\")\n",
    "from sklearn.model_selection import train_test_split\n",
    "from sklearn.impute import SimpleImputer\n",
    "import sklearn.preprocessing\n",
    "from sklearn.preprocessing import LabelEncoder\n",
    "from sklearn.preprocessing import OneHotEncoder\n",
    "from sklearn.preprocessing import MinMaxScaler\n",
    "import math\n",
    "import split_scale\n",
    "from sklearn.tree import DecisionTreeClassifier, export_graphviz\n",
    "from sklearn.linear_model import LogisticRegression\n",
    "from sklearn.ensemble import RandomForestClassifier\n",
    "from sklearn.neighbors import KNeighborsClassifier\n",
    "from sklearn.metrics import confusion_matrix, classification_report\n",
    "from graphviz import Source\n",
    "from scipy import stats"
   ]
  },
  {
   "cell_type": "code",
   "execution_count": 2,
   "metadata": {},
   "outputs": [],
   "source": [
    "def decisiontree(numeric_X_train, y_train):\n",
    "    clf = DecisionTreeClassifier(max_depth=2, max_features = 3, random_state=123)\n",
    "    clf.fit(numeric_X_train, y_train)\n",
    "    y_pred = clf.predict(numeric_X_train)\n",
    "    y_pred\n",
    "    y_pred_proba = clf.predict_proba(numeric_X_train)\n",
    "    y_pred_proba\n",
    "    print('Accuracy of Decision Tree classifier on training set: {:.2f}'\n",
    "     .format(clf.score(numeric_X_train, y_train)))\n",
    "    confusion_matrix(y_train, y_pred)\n",
    "    print(classification_report(y_train, y_pred))\n",
    "    dot_data = export_graphviz(clf, out_file=None) \n",
    "    graph = Source(dot_data) \n",
    "\n",
    "    graph.render('telco_decision_tree', view=True)\n",
    "    print('Accuracy of Decision Tree classifier on test set: {:.2f}'\n",
    "     .format(clf.score(numeric_X_test, y_test)))\n",
    "    return clf.score(numeric_X_train, y_train), clf.score(numeric_X_test, y_test)"
   ]
  },
  {
   "cell_type": "code",
   "execution_count": 3,
   "metadata": {},
   "outputs": [],
   "source": [
    "def LogRegression(numeric_X_train, y_train):\n",
    "    logit = LogisticRegression(C=1, class_weight={1:2}, random_state = 123, solver='saga')\n",
    "    logit.fit(numeric_X_train, y_train)\n",
    "    print('Coefficient: \\n', logit.coef_)\n",
    "    print('Intercept: \\n', logit.intercept_)\n",
    "    y_pred = logit.predict(numeric_X_train)\n",
    "    y_pred_proba = logit.predict_proba(numeric_X_train)\n",
    "    print('Accuracy of Logistic Regression classifier on training set: {:.2f}'\n",
    "         .format(logit.score(numeric_X_train, y_train)))\n",
    "    print(confusion_matrix(y_train, y_pred))\n",
    "    print(classification_report(y_train, y_pred))\n",
    "    print('Accuracy of Logistic Regression classifier on test set: {:.2f}'\n",
    "         .format(logit.score(numeric_X_test, y_test)))\n",
    "    return logit.score(numeric_X_train, y_train), logit.score(numeric_X_test, y_test)"
   ]
  },
  {
   "cell_type": "code",
   "execution_count": 4,
   "metadata": {},
   "outputs": [],
   "source": [
    "def RandForest(numeric_X_train, y_train):\n",
    "    rf = RandomForestClassifier(bootstrap=True, \n",
    "                            class_weight=None, \n",
    "                            criterion='gini',\n",
    "                            min_samples_leaf=3,\n",
    "                            n_estimators=100,\n",
    "                            max_depth=2, \n",
    "                            random_state=123)\n",
    "    rf.fit(numeric_X_train, y_train)\n",
    "    print(rf.feature_importances_)\n",
    "    y_pred = rf.predict(numeric_X_train)\n",
    "    y_pred_proba = rf.predict_proba(numeric_X_train)\n",
    "    print('Accuracy of random forest classifier on training set: {:.2f}'\n",
    "         .format(rf.score(numeric_X_train, y_train)))\n",
    "    print(confusion_matrix(y_train, y_pred))\n",
    "    print(classification_report(y_train, y_pred))\n",
    "    print('Accuracy of random forest classifier on test set: {:.2f}'.format(rf.score(numeric_X_test, y_test)))\n",
    "    return rf.score(numeric_X_train, y_train), rf.score(numeric_X_test, y_test)"
   ]
  },
  {
   "cell_type": "code",
   "execution_count": 5,
   "metadata": {},
   "outputs": [],
   "source": [
    "def KNN(numeric_X_train, y_train):\n",
    "    knn = KNeighborsClassifier(n_neighbors=5, weights='uniform')\n",
    "    knn.fit(numeric_X_train, y_train)\n",
    "    y_pred = knn.predict(numeric_X_train)\n",
    "    y_pred_proba = knn.predict_proba(numeric_X_train)\n",
    "    print('Accuracy of KNN classifier on training set: {:.2f}'\n",
    "         .format(knn.score(numeric_X_train, y_train)))\n",
    "    print(confusion_matrix(y_train, y_pred))\n",
    "    print(classification_report(y_train, y_pred))\n",
    "    print('Accuracy of KNN classifier on test set: {:.2f}'\n",
    "         .format(knn.score(numeric_X_test, y_test)))\n",
    "    return knn.score(numeric_X_train, y_train), knn.score(numeric_X_test, y_test)"
   ]
  },
  {
   "cell_type": "code",
   "execution_count": null,
   "metadata": {},
   "outputs": [],
   "source": []
  }
 ],
 "metadata": {
  "kernelspec": {
   "display_name": "Python 3",
   "language": "python",
   "name": "python3"
  },
  "language_info": {
   "codemirror_mode": {
    "name": "ipython",
    "version": 3
   },
   "file_extension": ".py",
   "mimetype": "text/x-python",
   "name": "python",
   "nbconvert_exporter": "python",
   "pygments_lexer": "ipython3",
   "version": "3.7.3"
  }
 },
 "nbformat": 4,
 "nbformat_minor": 2
}
